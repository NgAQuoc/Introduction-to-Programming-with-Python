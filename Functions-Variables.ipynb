{
 "cells": [
  {
   "cell_type": "markdown",
   "metadata": {},
   "source": [
    "### Functions\n",
    "\n",
    "- agrument\n",
    "- side effect\n",
    "- bugs\n",
    "- return value\n",
    "- variables\n",
    "- comment\n",
    "- pseudocode\n",
    "- str\n",
    "- docs.python.org/3/library/functions.html\n",
    "- parameters\n"
   ]
  },
  {
   "cell_type": "code",
   "execution_count": 7,
   "metadata": {},
   "outputs": [
    {
     "name": "stdout",
     "output_type": "stream",
     "text": [
      "hello, Anh Quoc\n",
      "hello, Anh Quoc\n",
      "hello \"friend\"\n",
      "hello \"friend\"\n"
     ]
    }
   ],
   "source": [
    "# Ask user for their name\n",
    "name=input(\"What's your name? \")\n",
    "\n",
    "# Say hello to user\n",
    "# Function print have 2 parameter is sep (default =\" \") and end (default =\"\\n\")\n",
    "print(\"hello,\",name)\n",
    "print(f\"hello, {name}\")\n",
    "print('hello \"friend\"')\n",
    "print(\"hello \\\"friend\\\"\")"
   ]
  },
  {
   "cell_type": "code",
   "execution_count": 22,
   "metadata": {},
   "outputs": [
    {
     "name": "stdout",
     "output_type": "stream",
     "text": [
      "hello, Quoc Nguyen\n"
     ]
    }
   ],
   "source": [
    "# Ask user for their name\n",
    "name=input(\"What's your name? \").strip().title()\n",
    "\n",
    "#Remove whitespace from str (Xóa khoảng trắng 2 bên của str )\n",
    "#name=name.strip()\n",
    "\n",
    "#Capitalize user's name ( Phương thước này chỉ viết hoa chữ cái đầu trong str VD: Anh Quoc=Anh quoc)\n",
    "#name=name.capitalize()\n",
    "#print(f\"hello, {name}\")\n",
    "\n",
    "# Viết hoa tất cả các chữ cái đầu của mỗi từ\n",
    "#name=name.title()\n",
    "\n",
    "# Thay vì gán quá nhiều dòng ta có thể gộp nhìu phương thức vào 1 dòng\n",
    "#name=name.strip().title()\n",
    "# Hoặc thêm phương thức ngay lúc nhập lun\n",
    "#Say hello to user\n",
    "print(f\"hello, {name}\")\n"
   ]
  },
  {
   "cell_type": "code",
   "execution_count": 24,
   "metadata": {},
   "outputs": [
    {
     "name": "stdout",
     "output_type": "stream",
     "text": [
      "hello, Quoc\n"
     ]
    }
   ],
   "source": [
    "# Có thể lấy họ và tên bằng phương pháp split\n",
    "frist, last= name.split(\" \")\n",
    "\n",
    "print (f\"hello, {frist}\")"
   ]
  },
  {
   "cell_type": "markdown",
   "metadata": {},
   "source": [
    "Tham khảo các phương thức string của python tại link:\n",
    "\n",
    "docs.python.org/3/library/stdtypes.html#string-methods"
   ]
  },
  {
   "cell_type": "markdown",
   "metadata": {},
   "source": [
    "- int- số nguyên (+,-,*,/,%)\n"
   ]
  },
  {
   "cell_type": "code",
   "execution_count": 26,
   "metadata": {},
   "outputs": [
    {
     "name": "stdout",
     "output_type": "stream",
     "text": [
      "22\n"
     ]
    }
   ],
   "source": [
    "# dưới đây là ghép 2 chuỗi chứ không phải cộng 2 số nguyên nên ta sẽ ép kiểu\n",
    "x= input(\"What's x? \")\n",
    "y= input(\"What's y? \")\n",
    "\n",
    "z=x+y\n",
    "\n",
    "print(z)"
   ]
  },
  {
   "cell_type": "code",
   "execution_count": 28,
   "metadata": {},
   "outputs": [
    {
     "name": "stdout",
     "output_type": "stream",
     "text": [
      "5\n"
     ]
    }
   ],
   "source": [
    "x= int(input(\"What's x? \"))\n",
    "y= int(input(\"What's y? \"))\n",
    "\n",
    "print(x+y)"
   ]
  },
  {
   "cell_type": "code",
   "execution_count": 39,
   "metadata": {},
   "outputs": [
    {
     "name": "stdout",
     "output_type": "stream",
     "text": [
      "1,000,000\n"
     ]
    }
   ],
   "source": [
    "x= float(input(\"What's x? \"))\n",
    "y= float(input(\"What's y? \"))\n",
    "\n",
    "z= round(x+y)\n",
    "\n",
    "print(f\"{z:,}\")"
   ]
  },
  {
   "cell_type": "markdown",
   "metadata": {},
   "source": [
    "- def"
   ]
  },
  {
   "cell_type": "code",
   "execution_count": 42,
   "metadata": {},
   "outputs": [
    {
     "name": "stdout",
     "output_type": "stream",
     "text": [
      "hello world\n",
      "hello Quoc\n"
     ]
    }
   ],
   "source": [
    "def hello(to=\"world\"):\n",
    "    print(\"hello\",to)\n",
    "\n",
    "hello()\n",
    "hello(\"Quoc\")"
   ]
  },
  {
   "cell_type": "markdown",
   "metadata": {},
   "source": [
    "- return"
   ]
  },
  {
   "cell_type": "code",
   "execution_count": 44,
   "metadata": {},
   "outputs": [
    {
     "name": "stdout",
     "output_type": "stream",
     "text": [
      "x squared is 4\n"
     ]
    }
   ],
   "source": [
    "def main():\n",
    "    x=int(input(\"What's x?\" ))\n",
    "    print(\"x squared is\",square(x))\n",
    "\n",
    "def square(x):\n",
    "    return x*x\n",
    "\n",
    "main()"
   ]
  }
 ],
 "metadata": {
  "interpreter": {
   "hash": "7280fd4b02f0a7fd8f9d02d2e480cdba4a6c31f1f568d35ddf3d667ef85447c5"
  },
  "kernelspec": {
   "display_name": "Python 3.8.8 ('base')",
   "language": "python",
   "name": "python3"
  },
  "language_info": {
   "codemirror_mode": {
    "name": "ipython",
    "version": 3
   },
   "file_extension": ".py",
   "mimetype": "text/x-python",
   "name": "python",
   "nbconvert_exporter": "python",
   "pygments_lexer": "ipython3",
   "version": "3.8.16"
  },
  "orig_nbformat": 4
 },
 "nbformat": 4,
 "nbformat_minor": 2
}
